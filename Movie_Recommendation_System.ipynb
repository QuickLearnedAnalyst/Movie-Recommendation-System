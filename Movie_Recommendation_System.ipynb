{
 "cells": [
  {
   "cell_type": "markdown",
   "id": "5b04fe35-be1b-4485-b18c-f7670cf0f62d",
   "metadata": {},
   "source": [
    "# Movie Recommendation System "
   ]
  },
  {
   "cell_type": "markdown",
   "id": "1ea23cf2-9054-4215-a769-ee9c10abf198",
   "metadata": {},
   "source": [
    "**Library Installation:**"
   ]
  },
  {
   "cell_type": "code",
   "execution_count": 202,
   "id": "2a5cbfcf-9613-4da9-a282-1f1b5f3ad349",
   "metadata": {},
   "outputs": [
    {
     "name": "stdout",
     "output_type": "stream",
     "text": [
      "Requirement already satisfied: requests in c:\\users\\ravin\\anaconda3\\lib\\site-packages (2.31.0)\n",
      "Requirement already satisfied: charset-normalizer<4,>=2 in c:\\users\\ravin\\anaconda3\\lib\\site-packages (from requests) (2.0.4)\n",
      "Requirement already satisfied: idna<4,>=2.5 in c:\\users\\ravin\\anaconda3\\lib\\site-packages (from requests) (3.4)\n",
      "Requirement already satisfied: urllib3<3,>=1.21.1 in c:\\users\\ravin\\anaconda3\\lib\\site-packages (from requests) (2.0.7)\n",
      "Requirement already satisfied: certifi>=2017.4.17 in c:\\users\\ravin\\anaconda3\\lib\\site-packages (from requests) (2024.8.30)\n",
      "Requirement already satisfied: pandas in c:\\users\\ravin\\anaconda3\\lib\\site-packages (2.1.4)\n",
      "Requirement already satisfied: numpy<2,>=1.23.2 in c:\\users\\ravin\\anaconda3\\lib\\site-packages (from pandas) (1.26.4)\n",
      "Requirement already satisfied: python-dateutil>=2.8.2 in c:\\users\\ravin\\anaconda3\\lib\\site-packages (from pandas) (2.8.2)\n",
      "Requirement already satisfied: pytz>=2020.1 in c:\\users\\ravin\\anaconda3\\lib\\site-packages (from pandas) (2023.3.post1)\n",
      "Requirement already satisfied: tzdata>=2022.1 in c:\\users\\ravin\\anaconda3\\lib\\site-packages (from pandas) (2023.3)\n",
      "Requirement already satisfied: six>=1.5 in c:\\users\\ravin\\anaconda3\\lib\\site-packages (from python-dateutil>=2.8.2->pandas) (1.16.0)\n",
      "Requirement already satisfied: scikit-learn in c:\\users\\ravin\\anaconda3\\lib\\site-packages (1.2.2)\n",
      "Requirement already satisfied: numpy>=1.17.3 in c:\\users\\ravin\\anaconda3\\lib\\site-packages (from scikit-learn) (1.26.4)\n",
      "Requirement already satisfied: scipy>=1.3.2 in c:\\users\\ravin\\anaconda3\\lib\\site-packages (from scikit-learn) (1.11.4)\n",
      "Requirement already satisfied: joblib>=1.1.1 in c:\\users\\ravin\\anaconda3\\lib\\site-packages (from scikit-learn) (1.2.0)\n",
      "Requirement already satisfied: threadpoolctl>=2.0.0 in c:\\users\\ravin\\anaconda3\\lib\\site-packages (from scikit-learn) (2.2.0)\n"
     ]
    }
   ],
   "source": [
    "!pip install requests\n",
    "!pip install pandas\n",
    "!pip install scikit-learn"
   ]
  },
  {
   "cell_type": "markdown",
   "id": "1d4f3534-0901-43f0-be4c-2a06235b3856",
   "metadata": {},
   "source": [
    "**Text Similarity using Cosine Similarity:**"
   ]
  },
  {
   "cell_type": "code",
   "execution_count": 204,
   "id": "ad033c78-2f75-416e-b18b-5f9ecb159f0a",
   "metadata": {},
   "outputs": [],
   "source": [
    "import pandas as pd\n",
    "import numpy as np\n",
    "import requests\n",
    "from sklearn.feature_extraction.text import CountVectorizer\n",
    "from sklearn.metrics.pairwise import cosine_similarity"
   ]
  },
  {
   "cell_type": "markdown",
   "id": "76c13798-9fc4-4315-bc7f-4470d77c5214",
   "metadata": {},
   "source": [
    "**Fetch Popular Movies from TMDb API:**"
   ]
  },
  {
   "cell_type": "code",
   "execution_count": 206,
   "id": "07cb3d04-70eb-4cdb-b1c2-94293d908d5c",
   "metadata": {},
   "outputs": [
    {
     "data": {
      "text/plain": [
       "[{'adult': False,\n",
       "  'backdrop_path': '/fTrQsdMS2MUw00RnzH0r3JWHhts.jpg',\n",
       "  'genre_ids': [28, 80, 53],\n",
       "  'id': 1197306,\n",
       "  'original_language': 'en',\n",
       "  'original_title': 'A Working Man',\n",
       "  'overview': \"Levon Cade left behind a decorated military career in the black ops to live a simple life working construction. But when his boss's daughter, who is like family to him, is taken by human traffickers, his search to bring her home uncovers a world of corruption far greater than he ever could have imagined.\",\n",
       "  'popularity': 942.1209,\n",
       "  'poster_path': '/xUkUZ8eOnrOnnJAfusZUqKYZiDu.jpg',\n",
       "  'release_date': '2025-03-26',\n",
       "  'title': 'A Working Man',\n",
       "  'video': False,\n",
       "  'vote_average': 6.314,\n",
       "  'vote_count': 409},\n",
       " {'adult': False,\n",
       "  'backdrop_path': '/op3qmNhvwEvyT7UFyPbIfQmKriB.jpg',\n",
       "  'genre_ids': [14, 12, 28],\n",
       "  'id': 324544,\n",
       "  'original_language': 'en',\n",
       "  'original_title': 'In the Lost Lands',\n",
       "  'overview': 'A queen sends the powerful and feared sorceress Gray Alys to the ghostly wilderness of the Lost Lands in search of a magical power, where she and her guide, the drifter Boyce, must outwit and outfight both man and demon.',\n",
       "  'popularity': 481.112,\n",
       "  'poster_path': '/t6HJH3gXtUqVinyFKWi7Bjh73TM.jpg',\n",
       "  'release_date': '2025-02-27',\n",
       "  'title': 'In the Lost Lands',\n",
       "  'video': False,\n",
       "  'vote_average': 6.292,\n",
       "  'vote_count': 269},\n",
       " {'adult': False,\n",
       "  'backdrop_path': '/2Nti3gYAX513wvhp8IiLL6ZDyOm.jpg',\n",
       "  'genre_ids': [10751, 35, 12, 14],\n",
       "  'id': 950387,\n",
       "  'original_language': 'en',\n",
       "  'original_title': 'A Minecraft Movie',\n",
       "  'overview': \"Four misfits find themselves struggling with ordinary problems when they are suddenly pulled through a mysterious portal into the Overworld: a bizarre, cubic wonderland that thrives on imagination. To get back home, they'll have to master this world while embarking on a magical quest with an unexpected, expert crafter, Steve.\",\n",
       "  'popularity': 517.5425,\n",
       "  'poster_path': '/yFHHfHcUgGAxziP1C3lLt0q2T4s.jpg',\n",
       "  'release_date': '2025-03-31',\n",
       "  'title': 'A Minecraft Movie',\n",
       "  'video': False,\n",
       "  'vote_average': 6.2,\n",
       "  'vote_count': 705},\n",
       " {'adult': False,\n",
       "  'backdrop_path': '/k32XKMjmXMGeydykD32jfER3BVI.jpg',\n",
       "  'genre_ids': [28, 9648, 18],\n",
       "  'id': 1045938,\n",
       "  'original_language': 'en',\n",
       "  'original_title': 'G20',\n",
       "  'overview': 'After the G20 Summit is overtaken by terrorists, President Danielle Sutton must bring all her statecraft and military experience to defend her family and her fellow leaders.',\n",
       "  'popularity': 288.9191,\n",
       "  'poster_path': '/wv6oWAleCJZUk5htrGg413t3GCy.jpg',\n",
       "  'release_date': '2025-04-09',\n",
       "  'title': 'G20',\n",
       "  'video': False,\n",
       "  'vote_average': 6.669,\n",
       "  'vote_count': 356},\n",
       " {'adult': False,\n",
       "  'backdrop_path': '/jhL4eTpccoZSVehhcR8DKLSBHZy.jpg',\n",
       "  'genre_ids': [28, 53, 878],\n",
       "  'id': 822119,\n",
       "  'original_language': 'en',\n",
       "  'original_title': 'Captain America: Brave New World',\n",
       "  'overview': 'After meeting with newly elected U.S. President Thaddeus Ross, Sam finds himself in the middle of an international incident. He must discover the reason behind a nefarious global plot before the true mastermind has the entire world seeing red.',\n",
       "  'popularity': 329.1585,\n",
       "  'poster_path': '/pzIddUEMWhWzfvLI3TwxUG2wGoi.jpg',\n",
       "  'release_date': '2025-02-12',\n",
       "  'title': 'Captain America: Brave New World',\n",
       "  'video': False,\n",
       "  'vote_average': 6.1,\n",
       "  'vote_count': 1598}]"
      ]
     },
     "execution_count": 206,
     "metadata": {},
     "output_type": "execute_result"
    }
   ],
   "source": [
    "api_key = '638754c73aa7573cd1669163032da419'\n",
    "# API  URL to fetch popular movies\n",
    "url = f'https://api.themoviedb.org/3/movie/popular?api_key={api_key}&language=en-US&page=1'\n",
    "\n",
    "# Get response from the API\n",
    "response = requests.get(url)\n",
    "\n",
    "# Parse the response as JSON\n",
    "data = response.json()\n",
    "\n",
    "# Display the first 5 movies\n",
    "data['results'][:5]\n"
   ]
  },
  {
   "cell_type": "markdown",
   "id": "0afb65c7-109f-4cbf-93ce-cebf49a8bf67",
   "metadata": {},
   "source": [
    "**Convert API Response to DataFrame:**"
   ]
  },
  {
   "cell_type": "code",
   "execution_count": 208,
   "id": "909d6226-2b12-4bc6-8b68-6a99e416ce29",
   "metadata": {},
   "outputs": [
    {
     "data": {
      "text/html": [
       "<div>\n",
       "<style scoped>\n",
       "    .dataframe tbody tr th:only-of-type {\n",
       "        vertical-align: middle;\n",
       "    }\n",
       "\n",
       "    .dataframe tbody tr th {\n",
       "        vertical-align: top;\n",
       "    }\n",
       "\n",
       "    .dataframe thead th {\n",
       "        text-align: right;\n",
       "    }\n",
       "</style>\n",
       "<table border=\"1\" class=\"dataframe\">\n",
       "  <thead>\n",
       "    <tr style=\"text-align: right;\">\n",
       "      <th></th>\n",
       "      <th>adult</th>\n",
       "      <th>backdrop_path</th>\n",
       "      <th>genre_ids</th>\n",
       "      <th>id</th>\n",
       "      <th>original_language</th>\n",
       "      <th>original_title</th>\n",
       "      <th>overview</th>\n",
       "      <th>popularity</th>\n",
       "      <th>poster_path</th>\n",
       "      <th>release_date</th>\n",
       "      <th>title</th>\n",
       "      <th>video</th>\n",
       "      <th>vote_average</th>\n",
       "      <th>vote_count</th>\n",
       "    </tr>\n",
       "  </thead>\n",
       "  <tbody>\n",
       "    <tr>\n",
       "      <th>0</th>\n",
       "      <td>False</td>\n",
       "      <td>/fTrQsdMS2MUw00RnzH0r3JWHhts.jpg</td>\n",
       "      <td>[28, 80, 53]</td>\n",
       "      <td>1197306</td>\n",
       "      <td>en</td>\n",
       "      <td>A Working Man</td>\n",
       "      <td>Levon Cade left behind a decorated military ca...</td>\n",
       "      <td>942.1209</td>\n",
       "      <td>/xUkUZ8eOnrOnnJAfusZUqKYZiDu.jpg</td>\n",
       "      <td>2025-03-26</td>\n",
       "      <td>A Working Man</td>\n",
       "      <td>False</td>\n",
       "      <td>6.314</td>\n",
       "      <td>409</td>\n",
       "    </tr>\n",
       "    <tr>\n",
       "      <th>1</th>\n",
       "      <td>False</td>\n",
       "      <td>/op3qmNhvwEvyT7UFyPbIfQmKriB.jpg</td>\n",
       "      <td>[14, 12, 28]</td>\n",
       "      <td>324544</td>\n",
       "      <td>en</td>\n",
       "      <td>In the Lost Lands</td>\n",
       "      <td>A queen sends the powerful and feared sorceres...</td>\n",
       "      <td>481.1120</td>\n",
       "      <td>/t6HJH3gXtUqVinyFKWi7Bjh73TM.jpg</td>\n",
       "      <td>2025-02-27</td>\n",
       "      <td>In the Lost Lands</td>\n",
       "      <td>False</td>\n",
       "      <td>6.292</td>\n",
       "      <td>269</td>\n",
       "    </tr>\n",
       "    <tr>\n",
       "      <th>2</th>\n",
       "      <td>False</td>\n",
       "      <td>/2Nti3gYAX513wvhp8IiLL6ZDyOm.jpg</td>\n",
       "      <td>[10751, 35, 12, 14]</td>\n",
       "      <td>950387</td>\n",
       "      <td>en</td>\n",
       "      <td>A Minecraft Movie</td>\n",
       "      <td>Four misfits find themselves struggling with o...</td>\n",
       "      <td>517.5425</td>\n",
       "      <td>/yFHHfHcUgGAxziP1C3lLt0q2T4s.jpg</td>\n",
       "      <td>2025-03-31</td>\n",
       "      <td>A Minecraft Movie</td>\n",
       "      <td>False</td>\n",
       "      <td>6.200</td>\n",
       "      <td>705</td>\n",
       "    </tr>\n",
       "    <tr>\n",
       "      <th>3</th>\n",
       "      <td>False</td>\n",
       "      <td>/k32XKMjmXMGeydykD32jfER3BVI.jpg</td>\n",
       "      <td>[28, 9648, 18]</td>\n",
       "      <td>1045938</td>\n",
       "      <td>en</td>\n",
       "      <td>G20</td>\n",
       "      <td>After the G20 Summit is overtaken by terrorist...</td>\n",
       "      <td>288.9191</td>\n",
       "      <td>/wv6oWAleCJZUk5htrGg413t3GCy.jpg</td>\n",
       "      <td>2025-04-09</td>\n",
       "      <td>G20</td>\n",
       "      <td>False</td>\n",
       "      <td>6.669</td>\n",
       "      <td>356</td>\n",
       "    </tr>\n",
       "    <tr>\n",
       "      <th>4</th>\n",
       "      <td>False</td>\n",
       "      <td>/jhL4eTpccoZSVehhcR8DKLSBHZy.jpg</td>\n",
       "      <td>[28, 53, 878]</td>\n",
       "      <td>822119</td>\n",
       "      <td>en</td>\n",
       "      <td>Captain America: Brave New World</td>\n",
       "      <td>After meeting with newly elected U.S. Presiden...</td>\n",
       "      <td>329.1585</td>\n",
       "      <td>/pzIddUEMWhWzfvLI3TwxUG2wGoi.jpg</td>\n",
       "      <td>2025-02-12</td>\n",
       "      <td>Captain America: Brave New World</td>\n",
       "      <td>False</td>\n",
       "      <td>6.100</td>\n",
       "      <td>1598</td>\n",
       "    </tr>\n",
       "  </tbody>\n",
       "</table>\n",
       "</div>"
      ],
      "text/plain": [
       "   adult                     backdrop_path            genre_ids       id  \\\n",
       "0  False  /fTrQsdMS2MUw00RnzH0r3JWHhts.jpg         [28, 80, 53]  1197306   \n",
       "1  False  /op3qmNhvwEvyT7UFyPbIfQmKriB.jpg         [14, 12, 28]   324544   \n",
       "2  False  /2Nti3gYAX513wvhp8IiLL6ZDyOm.jpg  [10751, 35, 12, 14]   950387   \n",
       "3  False  /k32XKMjmXMGeydykD32jfER3BVI.jpg       [28, 9648, 18]  1045938   \n",
       "4  False  /jhL4eTpccoZSVehhcR8DKLSBHZy.jpg        [28, 53, 878]   822119   \n",
       "\n",
       "  original_language                    original_title  \\\n",
       "0                en                     A Working Man   \n",
       "1                en                 In the Lost Lands   \n",
       "2                en                 A Minecraft Movie   \n",
       "3                en                               G20   \n",
       "4                en  Captain America: Brave New World   \n",
       "\n",
       "                                            overview  popularity  \\\n",
       "0  Levon Cade left behind a decorated military ca...    942.1209   \n",
       "1  A queen sends the powerful and feared sorceres...    481.1120   \n",
       "2  Four misfits find themselves struggling with o...    517.5425   \n",
       "3  After the G20 Summit is overtaken by terrorist...    288.9191   \n",
       "4  After meeting with newly elected U.S. Presiden...    329.1585   \n",
       "\n",
       "                        poster_path release_date  \\\n",
       "0  /xUkUZ8eOnrOnnJAfusZUqKYZiDu.jpg   2025-03-26   \n",
       "1  /t6HJH3gXtUqVinyFKWi7Bjh73TM.jpg   2025-02-27   \n",
       "2  /yFHHfHcUgGAxziP1C3lLt0q2T4s.jpg   2025-03-31   \n",
       "3  /wv6oWAleCJZUk5htrGg413t3GCy.jpg   2025-04-09   \n",
       "4  /pzIddUEMWhWzfvLI3TwxUG2wGoi.jpg   2025-02-12   \n",
       "\n",
       "                              title  video  vote_average  vote_count  \n",
       "0                     A Working Man  False         6.314         409  \n",
       "1                 In the Lost Lands  False         6.292         269  \n",
       "2                 A Minecraft Movie  False         6.200         705  \n",
       "3                               G20  False         6.669         356  \n",
       "4  Captain America: Brave New World  False         6.100        1598  "
      ]
     },
     "execution_count": 208,
     "metadata": {},
     "output_type": "execute_result"
    }
   ],
   "source": [
    "# Convert data to a DataFrame\n",
    "movies = pd.json_normalize(data['results'])\n",
    "\n",
    "movies.head()"
   ]
  },
  {
   "cell_type": "markdown",
   "id": "3daeb80a-54e6-44fb-8243-741f7df9e822",
   "metadata": {},
   "source": [
    "**Select Key Columns from Movie Data:**"
   ]
  },
  {
   "cell_type": "code",
   "execution_count": 210,
   "id": "2b86905b-b970-4615-8e15-261f0479e574",
   "metadata": {},
   "outputs": [
    {
     "data": {
      "text/html": [
       "<div>\n",
       "<style scoped>\n",
       "    .dataframe tbody tr th:only-of-type {\n",
       "        vertical-align: middle;\n",
       "    }\n",
       "\n",
       "    .dataframe tbody tr th {\n",
       "        vertical-align: top;\n",
       "    }\n",
       "\n",
       "    .dataframe thead th {\n",
       "        text-align: right;\n",
       "    }\n",
       "</style>\n",
       "<table border=\"1\" class=\"dataframe\">\n",
       "  <thead>\n",
       "    <tr style=\"text-align: right;\">\n",
       "      <th></th>\n",
       "      <th>id</th>\n",
       "      <th>title</th>\n",
       "      <th>overview</th>\n",
       "      <th>genre_ids</th>\n",
       "    </tr>\n",
       "  </thead>\n",
       "  <tbody>\n",
       "    <tr>\n",
       "      <th>0</th>\n",
       "      <td>1197306</td>\n",
       "      <td>A Working Man</td>\n",
       "      <td>Levon Cade left behind a decorated military ca...</td>\n",
       "      <td>[28, 80, 53]</td>\n",
       "    </tr>\n",
       "    <tr>\n",
       "      <th>1</th>\n",
       "      <td>324544</td>\n",
       "      <td>In the Lost Lands</td>\n",
       "      <td>A queen sends the powerful and feared sorceres...</td>\n",
       "      <td>[14, 12, 28]</td>\n",
       "    </tr>\n",
       "    <tr>\n",
       "      <th>2</th>\n",
       "      <td>950387</td>\n",
       "      <td>A Minecraft Movie</td>\n",
       "      <td>Four misfits find themselves struggling with o...</td>\n",
       "      <td>[10751, 35, 12, 14]</td>\n",
       "    </tr>\n",
       "    <tr>\n",
       "      <th>3</th>\n",
       "      <td>1045938</td>\n",
       "      <td>G20</td>\n",
       "      <td>After the G20 Summit is overtaken by terrorist...</td>\n",
       "      <td>[28, 9648, 18]</td>\n",
       "    </tr>\n",
       "    <tr>\n",
       "      <th>4</th>\n",
       "      <td>822119</td>\n",
       "      <td>Captain America: Brave New World</td>\n",
       "      <td>After meeting with newly elected U.S. Presiden...</td>\n",
       "      <td>[28, 53, 878]</td>\n",
       "    </tr>\n",
       "  </tbody>\n",
       "</table>\n",
       "</div>"
      ],
      "text/plain": [
       "        id                             title  \\\n",
       "0  1197306                     A Working Man   \n",
       "1   324544                 In the Lost Lands   \n",
       "2   950387                 A Minecraft Movie   \n",
       "3  1045938                               G20   \n",
       "4   822119  Captain America: Brave New World   \n",
       "\n",
       "                                            overview            genre_ids  \n",
       "0  Levon Cade left behind a decorated military ca...         [28, 80, 53]  \n",
       "1  A queen sends the powerful and feared sorceres...         [14, 12, 28]  \n",
       "2  Four misfits find themselves struggling with o...  [10751, 35, 12, 14]  \n",
       "3  After the G20 Summit is overtaken by terrorist...       [28, 9648, 18]  \n",
       "4  After meeting with newly elected U.S. Presiden...        [28, 53, 878]  "
      ]
     },
     "execution_count": 210,
     "metadata": {},
     "output_type": "execute_result"
    }
   ],
   "source": [
    "# Select important columns\n",
    "movies = movies[['id','title','overview','genre_ids']]\n",
    "\n",
    "movies.head()"
   ]
  },
  {
   "cell_type": "markdown",
   "id": "b239342b-4f59-4fee-a62e-b4f52fd8d34b",
   "metadata": {},
   "source": [
    "**Check and Clean Missing Data in Movie Dataset:**"
   ]
  },
  {
   "cell_type": "code",
   "execution_count": 212,
   "id": "7ed78f16-09f3-48c9-8426-8e0daaf4de35",
   "metadata": {},
   "outputs": [
    {
     "name": "stdout",
     "output_type": "stream",
     "text": [
      "id           0\n",
      "title        0\n",
      "overview     0\n",
      "genre_ids    0\n",
      "dtype: int64\n"
     ]
    }
   ],
   "source": [
    "# Check for missing values\n",
    "print(movies.isnull().sum())\n",
    "\n",
    "# Drop rows with missing overviews\n",
    "movies = movies.dropna(subset=['overview'])"
   ]
  },
  {
   "cell_type": "markdown",
   "id": "04f6c224-7df2-4f76-91dc-d38b3e9c55a6",
   "metadata": {},
   "source": [
    "**Convert Movie Overviews to Vectors using CountVectorizer:**"
   ]
  },
  {
   "cell_type": "code",
   "execution_count": 214,
   "id": "3425f6c5-6086-4ffc-8e5a-b0875f39a9ef",
   "metadata": {},
   "outputs": [
    {
     "data": {
      "text/plain": [
       "(20, 358)"
      ]
     },
     "execution_count": 214,
     "metadata": {},
     "output_type": "execute_result"
    }
   ],
   "source": [
    "# Convert overview to vectors\n",
    "cv= CountVectorizer(stop_words='english')\n",
    "vectors = cv.fit_transform(movies['overview']).toarray()\n",
    "\n",
    "# Check shape of vectorized data\n",
    "vectors.shape"
   ]
  },
  {
   "cell_type": "markdown",
   "id": "56603aaa-8629-4b16-89d2-1508008f1402",
   "metadata": {},
   "source": [
    "**Calculate Cosine Similarity for Movie Overviews:**"
   ]
  },
  {
   "cell_type": "code",
   "execution_count": 216,
   "id": "bc7fa4e7-9274-44f5-9ec6-3c1bd082f125",
   "metadata": {},
   "outputs": [],
   "source": [
    "# Cosine similarity calculation \n",
    "similarity = cosine_similarity(vectors)"
   ]
  },
  {
   "cell_type": "markdown",
   "id": "9029a384-877c-4e29-8bc9-f9325187b614",
   "metadata": {},
   "source": [
    "**Recommend Similar Movies Based on Cosine similarity:**"
   ]
  },
  {
   "cell_type": "code",
   "execution_count": 218,
   "id": "c0fcd28f-21c8-414f-ab43-94e238417331",
   "metadata": {},
   "outputs": [],
   "source": [
    "def recommend(movie):\n",
    "    # Check if movie is in the dataset\n",
    "    if movie not in movies['title'].values:\n",
    "        return \"Movie not found in the database.\"\n",
    "    \n",
    "    # Get the index of the movie\n",
    "    index = movies[movies['title'] == movie].index[0]\n",
    "\n",
    "    # Get similarity scores for all movies with this movie\n",
    "    distances = similarity[index]\n",
    "\n",
    "    # Sort movies based on similarity (except itself)\n",
    "    movie_list = sorted(list(enumerate(distances)), reverse=True, key=lambda x: x[1])[1:6]\n",
    "\n",
    "    # Print top 5 similar movies\n",
    "    print(f\"Top recommendations for '{movie}':\\n\")\n",
    "    for i in movie_list:\n",
    "        print(movies.iloc[i[0]].title)"
   ]
  },
  {
   "cell_type": "code",
   "execution_count": 219,
   "id": "bcf7ab5b-471a-4d5c-96cd-a2fb130071fb",
   "metadata": {},
   "outputs": [
    {
     "name": "stdout",
     "output_type": "stream",
     "text": [
      "Top recommendations for 'In the Lost Lands':\n",
      "\n",
      "Moana 2\n",
      "Mufasa: The Lion King\n",
      "A Minecraft Movie\n",
      "Conclave\n",
      "A Working Man\n"
     ]
    }
   ],
   "source": [
    "recommend('In the Lost Lands')"
   ]
  },
  {
   "cell_type": "markdown",
   "id": "842e16f0-c30f-4844-a32d-7a87dd43de88",
   "metadata": {},
   "source": [
    "**Movie data overview and Missing Values Check:**"
   ]
  },
  {
   "cell_type": "code",
   "execution_count": 221,
   "id": "ca67c04b-bc12-4973-b2f4-dadca279431f",
   "metadata": {},
   "outputs": [
    {
     "name": "stdout",
     "output_type": "stream",
     "text": [
      "<class 'pandas.core.frame.DataFrame'>\n",
      "RangeIndex: 20 entries, 0 to 19\n",
      "Data columns (total 4 columns):\n",
      " #   Column     Non-Null Count  Dtype \n",
      "---  ------     --------------  ----- \n",
      " 0   id         20 non-null     int64 \n",
      " 1   title      20 non-null     object\n",
      " 2   overview   20 non-null     object\n",
      " 3   genre_ids  20 non-null     object\n",
      "dtypes: int64(1), object(3)\n",
      "memory usage: 772.0+ bytes\n"
     ]
    },
    {
     "data": {
      "text/plain": [
       "id           0\n",
       "title        0\n",
       "overview     0\n",
       "genre_ids    0\n",
       "dtype: int64"
      ]
     },
     "execution_count": 221,
     "metadata": {},
     "output_type": "execute_result"
    }
   ],
   "source": [
    "movies.info()\n",
    "movies.describe()\n",
    "movies.isnull().sum()"
   ]
  },
  {
   "cell_type": "markdown",
   "id": "2fd6319d-ab7d-4529-8a68-da6fd19b58e7",
   "metadata": {},
   "source": [
    "**Enrich Movie data with Additional Details from TMDb API:**"
   ]
  },
  {
   "cell_type": "code",
   "execution_count": 223,
   "id": "e2728f81-c069-4011-aaf0-89b2516bdb56",
   "metadata": {},
   "outputs": [],
   "source": [
    "import requests\n",
    "\n",
    "# Dummy list of movie IDs from  data\n",
    "movie_ids = movies['id'].tolist()\n",
    "\n",
    "# Prepare empty list to store enriched data\n",
    "enriched_data = []\n",
    "\n",
    "for movie_id in movie_ids:\n",
    "    url = f\"https://api.themoviedb.org/3/movie/{movie_id}?api_key={api_key}&language=en-US\"\n",
    "    response = requests.get(url)\n",
    "    data = response.json()\n",
    "\n",
    "    enriched_data.append({\n",
    "        \"id\": movie_id,\n",
    "        \"title\": data.get(\"title\"),\n",
    "        \"release_date\": data.get(\"release_date\"),\n",
    "        \"vote_average\": data.get(\"vote_average\"),\n",
    "        \"vote_count\": data.get(\"vote_count\"),\n",
    "        \"popularity\": data.get(\"popularity\"),\n",
    "        \"runtime\": data.get(\"runtime\"),\n",
    "        \"genres\": [genre['name'] for genre in data.get(\"genres\", [])]\n",
    "    })"
   ]
  },
  {
   "cell_type": "code",
   "execution_count": 224,
   "id": "f1517521-f744-41f1-a42a-8adc7fec313b",
   "metadata": {},
   "outputs": [
    {
     "data": {
      "text/html": [
       "<div>\n",
       "<style scoped>\n",
       "    .dataframe tbody tr th:only-of-type {\n",
       "        vertical-align: middle;\n",
       "    }\n",
       "\n",
       "    .dataframe tbody tr th {\n",
       "        vertical-align: top;\n",
       "    }\n",
       "\n",
       "    .dataframe thead th {\n",
       "        text-align: right;\n",
       "    }\n",
       "</style>\n",
       "<table border=\"1\" class=\"dataframe\">\n",
       "  <thead>\n",
       "    <tr style=\"text-align: right;\">\n",
       "      <th></th>\n",
       "      <th>id</th>\n",
       "      <th>title</th>\n",
       "      <th>release_date</th>\n",
       "      <th>vote_average</th>\n",
       "      <th>vote_count</th>\n",
       "      <th>popularity</th>\n",
       "      <th>runtime</th>\n",
       "      <th>genres</th>\n",
       "    </tr>\n",
       "  </thead>\n",
       "  <tbody>\n",
       "    <tr>\n",
       "      <th>0</th>\n",
       "      <td>1197306</td>\n",
       "      <td>A Working Man</td>\n",
       "      <td>2025-03-26</td>\n",
       "      <td>6.319</td>\n",
       "      <td>411</td>\n",
       "      <td>942.1209</td>\n",
       "      <td>116</td>\n",
       "      <td>[Action, Crime, Thriller]</td>\n",
       "    </tr>\n",
       "    <tr>\n",
       "      <th>1</th>\n",
       "      <td>324544</td>\n",
       "      <td>In the Lost Lands</td>\n",
       "      <td>2025-02-27</td>\n",
       "      <td>6.292</td>\n",
       "      <td>269</td>\n",
       "      <td>481.1120</td>\n",
       "      <td>102</td>\n",
       "      <td>[Fantasy, Adventure, Action]</td>\n",
       "    </tr>\n",
       "    <tr>\n",
       "      <th>2</th>\n",
       "      <td>950387</td>\n",
       "      <td>A Minecraft Movie</td>\n",
       "      <td>2025-03-31</td>\n",
       "      <td>6.200</td>\n",
       "      <td>705</td>\n",
       "      <td>517.5425</td>\n",
       "      <td>101</td>\n",
       "      <td>[Family, Comedy, Adventure, Fantasy]</td>\n",
       "    </tr>\n",
       "    <tr>\n",
       "      <th>3</th>\n",
       "      <td>1045938</td>\n",
       "      <td>G20</td>\n",
       "      <td>2025-04-09</td>\n",
       "      <td>6.668</td>\n",
       "      <td>355</td>\n",
       "      <td>288.9191</td>\n",
       "      <td>110</td>\n",
       "      <td>[Action, Mystery, Drama]</td>\n",
       "    </tr>\n",
       "    <tr>\n",
       "      <th>4</th>\n",
       "      <td>822119</td>\n",
       "      <td>Captain America: Brave New World</td>\n",
       "      <td>2025-02-12</td>\n",
       "      <td>6.100</td>\n",
       "      <td>1598</td>\n",
       "      <td>329.1585</td>\n",
       "      <td>119</td>\n",
       "      <td>[Action, Thriller, Science Fiction]</td>\n",
       "    </tr>\n",
       "  </tbody>\n",
       "</table>\n",
       "</div>"
      ],
      "text/plain": [
       "        id                             title release_date  vote_average  \\\n",
       "0  1197306                     A Working Man   2025-03-26         6.319   \n",
       "1   324544                 In the Lost Lands   2025-02-27         6.292   \n",
       "2   950387                 A Minecraft Movie   2025-03-31         6.200   \n",
       "3  1045938                               G20   2025-04-09         6.668   \n",
       "4   822119  Captain America: Brave New World   2025-02-12         6.100   \n",
       "\n",
       "   vote_count  popularity  runtime                                genres  \n",
       "0         411    942.1209      116             [Action, Crime, Thriller]  \n",
       "1         269    481.1120      102          [Fantasy, Adventure, Action]  \n",
       "2         705    517.5425      101  [Family, Comedy, Adventure, Fantasy]  \n",
       "3         355    288.9191      110              [Action, Mystery, Drama]  \n",
       "4        1598    329.1585      119   [Action, Thriller, Science Fiction]  "
      ]
     },
     "execution_count": 224,
     "metadata": {},
     "output_type": "execute_result"
    }
   ],
   "source": [
    "enriched_df = pd.DataFrame(enriched_data)\n",
    "enriched_df.head()"
   ]
  },
  {
   "cell_type": "markdown",
   "id": "b8b2929b-5103-4c97-93d2-1d9d48a482ff",
   "metadata": {},
   "source": [
    "*Plot Top 10 Most Popular Movies Based on Popularity:*"
   ]
  },
  {
   "cell_type": "code",
   "execution_count": 226,
   "id": "df55fc3b-f181-42e6-a852-dad87148f89c",
   "metadata": {},
   "outputs": [
    {
     "data": {
      "image/png": "[encoded data removed]",
      "text/plain": [
       "<Figure size 1200x600 with 1 Axes>"
      ]
     },
     "metadata": {},
     "output_type": "display_data"
    }
   ],
   "source": [
    "import matplotlib.pyplot as plt\n",
    "import seaborn as sns\n",
    "\n",
    "top_popular = enriched_df.sort_values(by='popularity', ascending=False).head(10)\n",
    "\n",
    "plt.figure(figsize=(12,6))\n",
    "sns.barplot(data=top_popular, x='popularity', y='title', palette='viridis')\n",
    "plt.title(\"Top 10 Most Popular Movies (2025)\")\n",
    "plt.xlabel(\"popularity\")\n",
    "plt.ylabel(\"Movie title\")\n",
    "plt.show()\n"
   ]
  },
  {
   "cell_type": "markdown",
   "id": "4029c508-cf6d-4047-96af-6ebac4335e7c",
   "metadata": {},
   "source": [
    "*Visualize Top 10 Movies by Vote Count:*"
   ]
  },
  {
   "cell_type": "code",
   "execution_count": 228,
   "id": "e3cd5542-48e4-4f9d-9677-8432cee83f04",
   "metadata": {},
   "outputs": [
    {
     "data": {
      "image/png": "[encoded data removed]",
      "text/plain": [
       "<Figure size 1200x600 with 1 Axes>"
      ]
     },
     "metadata": {},
     "output_type": "display_data"
    }
   ],
   "source": [
    "top_votes = enriched_df.sort_values(by='vote_count', ascending=False).head(10)\n",
    "plt.figure(figsize=(12,6))\n",
    "sns.barplot(data=top_votes, x='vote_count', y='title', palette='magma')\n",
    "plt.title(\"Top 10 Movies by Vote Count (2025)\")\n",
    "plt.xlabel(\"Vote Count\")\n",
    "plt.ylabel(\"Movie Title\")\n",
    "plt.show()\n"
   ]
  },
  {
   "cell_type": "markdown",
   "id": "5d11312e-5063-4cb9-a621-bc1aa5cb31a6",
   "metadata": {},
   "source": [
    "*Visualize Movie Distribution Across Genres:*"
   ]
  },
  {
   "cell_type": "code",
   "execution_count": 230,
   "id": "6415f228-6fd3-4737-9530-252400f3a921",
   "metadata": {},
   "outputs": [
    {
     "data": {
      "image/png": "[encoded data removed]",
      "text/plain": [
       "<Figure size 1200x600 with 1 Axes>"
      ]
     },
     "metadata": {},
     "output_type": "display_data"
    }
   ],
   "source": [
    "from collections import Counter\n",
    "\n",
    "# Flatten all genres into one list\n",
    "genre_list = [genre for sublist in enriched_df['genres'] for genre in sublist]\n",
    "\n",
    "# Count frequency\n",
    "genre_count = Counter(genre_list)\n",
    "genre_df = pd.DataFrame(genre_count.items(), columns=['Genre', 'Count']).sort_values(by='Count', ascending=False)\n",
    "\n",
    "# Plot\n",
    "plt.figure(figsize=(12,6))\n",
    "sns.barplot(data=genre_df, x='Count', y='Genre', palette='coolwarm')\n",
    "plt.title(\"Number of Movies per Genre (2025)\")\n",
    "plt.xlabel(\"Number of Movies\")\n",
    "plt.ylabel(\"Genre\")\n",
    "plt.show()"
   ]
  },
  {
   "cell_type": "markdown",
   "id": "f67d3e1c-a809-4cac-8508-e42cafbb65d9",
   "metadata": {},
   "source": [
    "*Scatter Plot of Vote Count vs Popularity with Bubble Size and Color:*"
   ]
  },
  {
   "cell_type": "code",
   "execution_count": 232,
   "id": "6048d8e6-eba3-4517-93ef-556f4cff07e9",
   "metadata": {},
   "outputs": [
    {
     "ename": "AttributeError",
     "evalue": "module 'matplotlib.pyplot' has no attribute 'xlable'",
     "output_type": "error",
     "traceback": [
      "\u001b[1;31m---------------------------------------------------------------------------\u001b[0m",
      "\u001b[1;31mAttributeError\u001b[0m                            Traceback (most recent call last)",
      "Cell \u001b[1;32mIn[232], line 4\u001b[0m\n\u001b[0;32m      2\u001b[0m sns\u001b[38;5;241m.\u001b[39mscatterplot(data\u001b[38;5;241m=\u001b[39menriched_df, x\u001b[38;5;241m=\u001b[39m\u001b[38;5;124m'\u001b[39m\u001b[38;5;124mvote_count\u001b[39m\u001b[38;5;124m'\u001b[39m, y\u001b[38;5;241m=\u001b[39m\u001b[38;5;124m'\u001b[39m\u001b[38;5;124mpopularity\u001b[39m\u001b[38;5;124m'\u001b[39m, hue\u001b[38;5;241m=\u001b[39m\u001b[38;5;124m'\u001b[39m\u001b[38;5;124mvote_average\u001b[39m\u001b[38;5;124m'\u001b[39m, size\u001b[38;5;241m=\u001b[39m\u001b[38;5;124m'\u001b[39m\u001b[38;5;124mruntime\u001b[39m\u001b[38;5;124m'\u001b[39m, palette\u001b[38;5;241m=\u001b[39m\u001b[38;5;124m'\u001b[39m\u001b[38;5;124mSpectral\u001b[39m\u001b[38;5;124m'\u001b[39m, sizes\u001b[38;5;241m=\u001b[39m(\u001b[38;5;241m40\u001b[39m,\u001b[38;5;241m200\u001b[39m))\n\u001b[0;32m      3\u001b[0m plt\u001b[38;5;241m.\u001b[39mtitle(\u001b[38;5;124m\"\u001b[39m\u001b[38;5;124mVote Count vs Popularity(Bubble size: Runtime, Color: Vote Avg)\u001b[39m\u001b[38;5;124m\"\u001b[39m)\n\u001b[1;32m----> 4\u001b[0m plt\u001b[38;5;241m.\u001b[39mxlable(\u001b[38;5;124m\"\u001b[39m\u001b[38;5;124mvote count\u001b[39m\u001b[38;5;124m\"\u001b[39m)\n\u001b[0;32m      5\u001b[0m plt\u001b[38;5;241m.\u001b[39mylabel(\u001b[38;5;124m\"\u001b[39m\u001b[38;5;124mpopularity\u001b[39m\u001b[38;5;124m\"\u001b[39m)\n\u001b[0;32m      6\u001b[0m plt\u001b[38;5;241m.\u001b[39mlegend()\n",
      "\u001b[1;31mAttributeError\u001b[0m: module 'matplotlib.pyplot' has no attribute 'xlable'"
     ]
    },
    {
     "data": {
      "image/png": "[encoded data removed]",
      "text/plain": [
       "<Figure size 800x600 with 1 Axes>"
      ]
     },
     "metadata": {},
     "output_type": "display_data"
    }
   ],
   "source": [
    "plt.figure(figsize=(8,6))\n",
    "sns.scatterplot(data=enriched_df, x='vote_count', y='popularity', hue='vote_average', size='runtime', palette='Spectral', sizes=(40,200))\n",
    "plt.title(\"Vote Count vs Popularity(Bubble size: Runtime, Color: Vote Avg)\")\n",
    "plt.xlable(\"vote count\")\n",
    "plt.ylabel(\"popularity\")\n",
    "plt.legend()\n",
    "plt.show()"
   ]
  },
  {
   "cell_type": "markdown",
   "id": "15b30379-b201-447c-8082-86ebaeb6b299",
   "metadata": {},
   "source": [
    "*Visualize Top 10 Movies by Average Rating:*"
   ]
  },
  {
   "cell_type": "code",
   "execution_count": null,
   "id": "11266cbf-12ef-466d-b128-17896f401ba0",
   "metadata": {},
   "outputs": [],
   "source": [
    "top_movies = enriched_df.sort_values(by='vote_average', ascending=False).head(10)\n",
    "plt.figure(figsize=(10,6))\n",
    "sns.barplot(data=top_movies, x='vote_average', y='title', palette='mako')\n",
    "plt.title(\"Top 10 Movies by Average Rating (2025)\")\n",
    "plt.xlabel(\"Average Rating\")\n",
    "plt.ylabel(\"Movie Title\")\n",
    "plt.show()"
   ]
  },
  {
   "cell_type": "code",
   "execution_count": null,
   "id": "5dc935a8-fc7e-4181-8d27-25159d625f97",
   "metadata": {},
   "outputs": [],
   "source": [
    "popular_high_votes = enriched_df[(enriched_df['vote_count'] > 500)]\n",
    "popular_high_votes[['title', 'vote_average', 'vote_count', 'popularity']].sort_values(by='popularity', ascending=False)"
   ]
  },
  {
   "cell_type": "markdown",
   "id": "8ea76a9b-dbe6-4e0a-8bcb-689e3bc37d7c",
   "metadata": {},
   "source": [
    "*Histogram of Movie Runtime Distribution:*"
   ]
  },
  {
   "cell_type": "code",
   "execution_count": null,
   "id": "cc1a582a-9edb-4289-bf7b-9547bdc5fd20",
   "metadata": {},
   "outputs": [],
   "source": [
    "plt.figure(figsize=(8,5))\n",
    "sns.histplot(enriched_df['runtime'], bins=20, kde=True, color='orange')\n",
    "plt.title(\"Runtime Distribution of Movies\")\n",
    "plt.xlabel(\"Runtime(minutes)\")\n",
    "plt.ylabel(\"Count\")\n",
    "plt.show()"
   ]
  },
  {
   "cell_type": "markdown",
   "id": "e32dff85-bdb8-41ff-9d28-b64ce08654a2",
   "metadata": {},
   "source": [
    "*Average Rating by Genre:*"
   ]
  },
  {
   "cell_type": "code",
   "execution_count": null,
   "id": "019c0cb4-afda-4c3c-b3c3-adaf48c077fb",
   "metadata": {},
   "outputs": [],
   "source": [
    "genre_rating = []\n",
    "\n",
    "for idx, row in enriched_df.iterrows():\n",
    "    for genre in row['genres']:\n",
    "        genre_rating.append((genre, row['vote_average']))\n",
    "\n",
    "genre_rating_df = pd.DataFrame(genre_rating, columns=['Genre', 'Rating'])\n",
    "avg_genre_rating = genre_rating_df.groupby('Genre')['Rating'].mean().sort_values(ascending=False)\n",
    "\n",
    "plt.figure(figsize=(10,6))\n",
    "avg_genre_rating.plot(kind='bar', color='skyblue')\n",
    "plt.title(\"Average Rating by Genre\")\n",
    "plt.ylabel(\"Average Rating\")\n",
    "plt.xlabel(\"Genre\")\n",
    "plt.xticks(rotation=45)\n",
    "plt.show()"
   ]
  },
  {
   "cell_type": "markdown",
   "id": "218f6312-8ce0-49f2-a0f0-e8b79193978e",
   "metadata": {},
   "source": [
    "*Average Popularity by Genre:*"
   ]
  },
  {
   "cell_type": "code",
   "execution_count": null,
   "id": "f126f97e-8223-45fc-8b29-6a4fd04eed3f",
   "metadata": {},
   "outputs": [],
   "source": [
    "genre_popularity = []\n",
    "\n",
    "for idx, row in enriched_df.iterrows():\n",
    "    for genre in row['genres']:\n",
    "        genre_popularity.append((genre, row['popularity']))\n",
    "\n",
    "genre_popularity_df = pd.DataFrame(genre_popularity, columns=['Genre', 'Popularity'])\n",
    "avg_genre_popularity = genre_popularity_df.groupby('Genre')['Popularity'].mean().sort_values(ascending=False)\n",
    "\n",
    "plt.figure(figsize=(10,6))\n",
    "avg_genre_popularity.plot(kind='bar', color='lightgreen')\n",
    "plt.title(\"Average Popularity by Genre\")\n",
    "plt.ylabel(\"Average Popularity\")\n",
    "plt.xlabel(\"Genre\")\n",
    "plt.xticks(rotation=45)\n",
    "plt.show()"
   ]
  },
  {
   "cell_type": "markdown",
   "id": "f70256c3-91b3-4dbd-bb26-f1052a94efc0",
   "metadata": {},
   "source": [
    "*Average Rating by Runtime Group:*"
   ]
  },
  {
   "cell_type": "code",
   "execution_count": null,
   "id": "95569eb5-e9d0-4340-be3d-6f67cc114348",
   "metadata": {},
   "outputs": [],
   "source": [
    "max_runtime = enriched_df['runtime'].max()\n",
    "\n",
    "# Check if max_runtime > 180, else set it to 181 to keep bins increasing\n",
    "if max_runtime <= 180:\n",
    "    max_runtime = 181\n",
    "\n",
    "bins = [0, 90, 120, 150, 180, max_runtime]\n",
    "labels = ['<90', '90-120', '120-150', '150-180', '>180']\n",
    "\n",
    "enriched_df['runtime_group'] = pd.cut(enriched_df['runtime'], bins=bins, labels=labels)\n",
    "\n",
    "group_rating = enriched_df.groupby('runtime_group')['vote_average'].mean()\n",
    "\n",
    "plt.figure(figsize=(8,5))\n",
    "group_rating.plot(kind='bar', color='purple')\n",
    "plt.title(\"Average Rating by Runtime Group\")\n",
    "plt.xlabel(\"Runtime Group (min)\")\n",
    "plt.ylabel(\"Average Vote\")\n",
    "plt.show()"
   ]
  },
  {
   "cell_type": "markdown",
   "id": "cccce5ae-491c-4196-832d-c8348589bbf2",
   "metadata": {},
   "source": [
    "*Average Rating by Release Year:*"
   ]
  },
  {
   "cell_type": "code",
   "execution_count": null,
   "id": "a16cd157-14c4-41b4-a21f-0f805b4ece85",
   "metadata": {},
   "outputs": [],
   "source": [
    "enriched_df['release_year'] = pd.to_datetime(enriched_df['release_date']).dt.year\n",
    "yearly_rating = enriched_df.groupby('release_year')['vote_average'].mean()\n",
    "\n",
    "plt.figure(figsize=(10,6))\n",
    "yearly_rating.plot(kind='line', marker='o', color='red')\n",
    "plt.title(\"Average Rating by Release Year\")\n",
    "plt.xlabel(\"Year\")\n",
    "plt.ylabel(\"Average Vote\")\n",
    "plt.grid(True)\n",
    "plt.show()"
   ]
  },
  {
   "cell_type": "markdown",
   "id": "a3c878b8-ab74-40ca-a00d-2a9996457711",
   "metadata": {},
   "source": [
    "*Top 10 Rated Movies with Vote Count>50:*"
   ]
  },
  {
   "cell_type": "code",
   "execution_count": null,
   "id": "4c663da9-76ba-44e4-b527-9b45d8dd3532",
   "metadata": {},
   "outputs": [],
   "source": [
    "top_movies = enriched_df[enriched_df['vote_count'] > 50].sort_values(by='vote_average', ascending=False).head(10)\n",
    "sns.barplot(data=top_movies, x='vote_average', y='title', palette='viridis')\n",
    "plt.title(\"Top 10 Rated Movies (Vote Count > 50)\")\n",
    "plt.xlabel(\"Average Rating\")\n",
    "plt.ylabel(\"Movie Title\")\n",
    "plt.show()"
   ]
  },
  {
   "cell_type": "markdown",
   "id": "0fcbd4f8-12a2-4f77-8152-26a88b216efd",
   "metadata": {},
   "source": [
    "*Correlation Heatmap of Numeric Features:*"
   ]
  },
  {
   "cell_type": "code",
   "execution_count": null,
   "id": "13d38899-3833-411d-bb65-34d675b13b5e",
   "metadata": {},
   "outputs": [],
   "source": [
    "plt.figure(figsize=(8,5))\n",
    "sns.heatmap(enriched_df[['vote_average', 'vote_count', 'popularity', 'runtime']].corr(), annot=True, cmap='coolwarm')\n",
    "plt.title(\"Correlation between Numeric Features\")\n",
    "plt.show()"
   ]
  },
  {
   "cell_type": "markdown",
   "id": "524a3273-f3b1-45c2-b714-4119e58f4ed5",
   "metadata": {},
   "source": [
    "*Average Popularity OverYears:*"
   ]
  },
  {
   "cell_type": "code",
   "execution_count": null,
   "id": "4d0ea111-1f6d-4dd4-8b63-09c91f4b2ce1",
   "metadata": {},
   "outputs": [],
   "source": [
    "enriched_df['release_year'] = pd.to_datetime(enriched_df['release_date']).dt.year\n",
    "yearly_popularity = enriched_df.groupby('release_year')['popularity'].mean()\n",
    "plt.figure(figsize=(10,5))\n",
    "yearly_popularity.plot()\n",
    "plt.title(\"Average Popularity Over Years\")\n",
    "plt.xlabel(\"Release Year\")\n",
    "plt.ylabel(\"Popularity\")\n",
    "plt.grid(True)\n",
    "plt.show()"
   ]
  }
 ],
 "metadata": {
  "kernelspec": {
   "display_name": "Python 3 (ipykernel)",
   "language": "python",
   "name": "python3"
  },
  "language_info": {
   "codemirror_mode": {
    "name": "ipython",
    "version": 3
   },
   "file_extension": ".py",
   "mimetype": "text/x-python",
   "name": "python",
   "nbconvert_exporter": "python",
   "pygments_lexer": "ipython3",
   "version": "3.11.7"
  }
 },
 "nbformat": 4,
 "nbformat_minor": 5
}
